{
 "cells": [
  {
   "cell_type": "code",
   "execution_count": null,
   "id": "006c56ae",
   "metadata": {},
   "outputs": [],
   "source": [
    "# Digital Signage AI Runner\n",
    "\n",
    "!git clone https://github.com/rido04/digital-signage-ai.git\n",
    "%cd digital-signage-ai\n",
    "\n",
    "# Install dependencies\n",
    "\n",
    "# Jalankan main script\n",
    "!python main.py\n"
   ]
  }
 ],
 "metadata": {
  "language_info": {
   "name": "python"
  }
 },
 "nbformat": 4,
 "nbformat_minor": 5
}
